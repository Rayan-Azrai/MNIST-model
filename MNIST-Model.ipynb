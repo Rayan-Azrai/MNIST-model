{
 "cells": [
  {
   "cell_type": "code",
   "execution_count": 1,
   "id": "f9d627df",
   "metadata": {},
   "outputs": [],
   "source": [
    "import os\n",
    "import random\n",
    "import torch\n",
    "import torchvision\n",
    "from torchvision.datasets import MNIST\n",
    "from torch.utils.data import DataLoader\n",
    "from torchvision import transforms\n",
    "from torch import nn\n",
    "import matplotlib.pyplot as plt\n",
    "import numpy as np\n",
    "import seaborn as sn\n",
    "import pandas as pd\n",
    "from sklearn import metrics"
   ]
  },
  {
   "cell_type": "markdown",
   "id": "76e63683",
   "metadata": {},
   "source": [
    "# Reproducibility "
   ]
  },
  {
   "cell_type": "code",
   "execution_count": 2,
   "id": "54d9664b",
   "metadata": {},
   "outputs": [
    {
     "data": {
      "text/plain": [
       "<torch._C.Generator at 0x190c4482370>"
      ]
     },
     "execution_count": 2,
     "metadata": {},
     "output_type": "execute_result"
    }
   ],
   "source": [
    "random.seed(42)\n",
    "np.random.seed(42)\n",
    "torch.manual_seed(42)"
   ]
  },
  {
   "cell_type": "markdown",
   "id": "96e3b202",
   "metadata": {},
   "source": [
    "# Device Configuration"
   ]
  },
  {
   "cell_type": "code",
   "execution_count": 3,
   "id": "d99e7680",
   "metadata": {},
   "outputs": [
    {
     "name": "stdout",
     "output_type": "stream",
     "text": [
      "Using device: cuda\n"
     ]
    }
   ],
   "source": [
    "device = torch.device(\"cuda\" if torch.cuda.is_available() else \"cpu\")\n",
    "print(f\"Using device: {device}\")"
   ]
  },
  {
   "cell_type": "markdown",
   "id": "4641fafd",
   "metadata": {},
   "source": [
    "# Data Loading"
   ]
  },
  {
   "cell_type": "markdown",
   "id": "b4698133",
   "metadata": {},
   "source": [
    "## Transform and load dataset"
   ]
  },
  {
   "cell_type": "code",
   "execution_count": 4,
   "id": "f02ef4e1",
   "metadata": {
    "scrolled": true
   },
   "outputs": [],
   "source": [
    "transform = transforms.ToTensor()\n",
    "data_root = os.getcwd()\n",
    "\n",
    "train_data = MNIST(root=data_root, train=True,  transform=transform, download=True)\n",
    "test_data  = MNIST(root=data_root, train=False, transform=transform, download=True)"
   ]
  },
  {
   "cell_type": "markdown",
   "id": "8c775bfa",
   "metadata": {},
   "source": [
    "## Data loaders"
   ]
  },
  {
   "cell_type": "code",
   "execution_count": 5,
   "id": "c32bc555",
   "metadata": {},
   "outputs": [],
   "source": [
    "train_loader = DataLoader(train_data, batch_size=64, shuffle=True)\n",
    "test_loader  = DataLoader(test_data,  batch_size=64, shuffle=False)"
   ]
  },
  {
   "cell_type": "markdown",
   "id": "e2152091",
   "metadata": {},
   "source": [
    "# Optional preview"
   ]
  },
  {
   "cell_type": "code",
   "execution_count": 6,
   "id": "e72cc7d2",
   "metadata": {},
   "outputs": [
    {
     "data": {
      "image/jpeg": "[encoded data removed]",
      "image/png": "[encoded data removed]",
      "text/plain": [
       "<PIL.Image.Image image mode=L size=28x28>"
      ]
     },
     "execution_count": 6,
     "metadata": {},
     "output_type": "execute_result"
    }
   ],
   "source": [
    "transforms.ToPILImage()(train_data[0][0])"
   ]
  },
  {
   "cell_type": "markdown",
   "id": "f2caedc1",
   "metadata": {},
   "source": [
    "# Model Definition\n"
   ]
  },
  {
   "cell_type": "code",
   "execution_count": 7,
   "id": "757743a2",
   "metadata": {},
   "outputs": [],
   "source": [
    "class MNISTClassifier(nn.Module):\n",
    "    def __init__(self):\n",
    "        super(MNISTClassifier, self).__init__()\n",
    "        self.flatten = nn.Flatten()\n",
    "        self.model = nn.Sequential(\n",
    "            nn.Linear(28*28, 250),\n",
    "            nn.ReLU(),\n",
    "            nn.Linear(250, 150),\n",
    "            nn.ReLU(),\n",
    "            nn.Linear(150, 10)\n",
    "        )\n",
    "    def forward(self, x):\n",
    "        x = self.flatten(x)\n",
    "        return self.model(x)\n",
    "\n",
    "model = MNISTClassifier().to(device)"
   ]
  },
  {
   "cell_type": "markdown",
   "id": "7e242008",
   "metadata": {},
   "source": [
    "# Loss & Optimizer\n"
   ]
  },
  {
   "cell_type": "code",
   "execution_count": 8,
   "id": "7ea7c221",
   "metadata": {},
   "outputs": [],
   "source": [
    "loss_fn   = nn.CrossEntropyLoss()\n",
    "optimizer = torch.optim.SGD(model.parameters(), lr=1e-2)"
   ]
  },
  {
   "cell_type": "markdown",
   "id": "e23a7440",
   "metadata": {},
   "source": [
    "# Training loop\n"
   ]
  },
  {
   "cell_type": "code",
   "execution_count": 9,
   "id": "083e6532",
   "metadata": {},
   "outputs": [
    {
     "name": "stdout",
     "output_type": "stream",
     "text": [
      "Epoch 1/100 | Train Loss: 1.7608 | Val Loss: 0.8082\n",
      "Epoch 2/100 | Train Loss: 0.5665 | Val Loss: 0.4286\n",
      "Epoch 3/100 | Train Loss: 0.3985 | Val Loss: 0.3501\n",
      "Epoch 4/100 | Train Loss: 0.3462 | Val Loss: 0.3133\n",
      "Epoch 5/100 | Train Loss: 0.3160 | Val Loss: 0.2908\n",
      "Epoch 6/100 | Train Loss: 0.2934 | Val Loss: 0.2780\n",
      "Epoch 7/100 | Train Loss: 0.2750 | Val Loss: 0.2583\n",
      "Epoch 8/100 | Train Loss: 0.2582 | Val Loss: 0.2445\n",
      "Epoch 9/100 | Train Loss: 0.2434 | Val Loss: 0.2302\n",
      "Epoch 10/100 | Train Loss: 0.2296 | Val Loss: 0.2180\n",
      "Epoch 11/100 | Train Loss: 0.2168 | Val Loss: 0.2080\n",
      "Epoch 12/100 | Train Loss: 0.2055 | Val Loss: 0.1999\n",
      "Epoch 13/100 | Train Loss: 0.1948 | Val Loss: 0.1909\n",
      "Epoch 14/100 | Train Loss: 0.1853 | Val Loss: 0.1812\n",
      "Epoch 15/100 | Train Loss: 0.1764 | Val Loss: 0.1730\n",
      "Epoch 16/100 | Train Loss: 0.1682 | Val Loss: 0.1673\n",
      "Epoch 17/100 | Train Loss: 0.1605 | Val Loss: 0.1614\n",
      "Epoch 18/100 | Train Loss: 0.1536 | Val Loss: 0.1547\n",
      "Epoch 19/100 | Train Loss: 0.1467 | Val Loss: 0.1495\n",
      "Epoch 20/100 | Train Loss: 0.1407 | Val Loss: 0.1438\n",
      "Epoch 21/100 | Train Loss: 0.1348 | Val Loss: 0.1399\n",
      "Epoch 22/100 | Train Loss: 0.1295 | Val Loss: 0.1354\n",
      "Epoch 23/100 | Train Loss: 0.1242 | Val Loss: 0.1316\n",
      "Epoch 24/100 | Train Loss: 0.1197 | Val Loss: 0.1271\n",
      "Epoch 25/100 | Train Loss: 0.1149 | Val Loss: 0.1237\n",
      "Epoch 26/100 | Train Loss: 0.1104 | Val Loss: 0.1208\n",
      "Epoch 27/100 | Train Loss: 0.1064 | Val Loss: 0.1174\n",
      "Epoch 28/100 | Train Loss: 0.1024 | Val Loss: 0.1157\n",
      "Epoch 29/100 | Train Loss: 0.0987 | Val Loss: 0.1111\n",
      "Epoch 30/100 | Train Loss: 0.0951 | Val Loss: 0.1101\n",
      "Epoch 31/100 | Train Loss: 0.0920 | Val Loss: 0.1105\n",
      "Epoch 32/100 | Train Loss: 0.0889 | Val Loss: 0.1050\n",
      "Epoch 33/100 | Train Loss: 0.0857 | Val Loss: 0.1040\n",
      "Epoch 34/100 | Train Loss: 0.0829 | Val Loss: 0.1013\n",
      "Epoch 35/100 | Train Loss: 0.0802 | Val Loss: 0.0976\n",
      "Epoch 36/100 | Train Loss: 0.0775 | Val Loss: 0.0971\n",
      "Epoch 37/100 | Train Loss: 0.0748 | Val Loss: 0.0963\n",
      "Epoch 38/100 | Train Loss: 0.0727 | Val Loss: 0.0944\n",
      "Epoch 39/100 | Train Loss: 0.0703 | Val Loss: 0.0928\n",
      "Epoch 40/100 | Train Loss: 0.0681 | Val Loss: 0.0927\n",
      "Epoch 41/100 | Train Loss: 0.0661 | Val Loss: 0.0894\n",
      "Epoch 42/100 | Train Loss: 0.0640 | Val Loss: 0.0897\n",
      "Epoch 43/100 | Train Loss: 0.0622 | Val Loss: 0.0877\n",
      "Epoch 44/100 | Train Loss: 0.0603 | Val Loss: 0.0866\n",
      "Epoch 45/100 | Train Loss: 0.0586 | Val Loss: 0.0844\n",
      "Epoch 46/100 | Train Loss: 0.0568 | Val Loss: 0.0848\n",
      "Epoch 47/100 | Train Loss: 0.0551 | Val Loss: 0.0838\n",
      "Epoch 48/100 | Train Loss: 0.0533 | Val Loss: 0.0819\n",
      "Epoch 49/100 | Train Loss: 0.0519 | Val Loss: 0.0834\n",
      "Epoch 50/100 | Train Loss: 0.0504 | Val Loss: 0.0812\n",
      "Epoch 51/100 | Train Loss: 0.0491 | Val Loss: 0.0804\n",
      "Epoch 52/100 | Train Loss: 0.0475 | Val Loss: 0.0816\n",
      "Epoch 53/100 | Train Loss: 0.0462 | Val Loss: 0.0785\n",
      "Epoch 54/100 | Train Loss: 0.0448 | Val Loss: 0.0765\n",
      "Epoch 55/100 | Train Loss: 0.0436 | Val Loss: 0.0788\n",
      "Epoch 56/100 | Train Loss: 0.0423 | Val Loss: 0.0775\n",
      "Epoch 57/100 | Train Loss: 0.0413 | Val Loss: 0.0801\n",
      "Epoch 58/100 | Train Loss: 0.0402 | Val Loss: 0.0759\n",
      "Epoch 59/100 | Train Loss: 0.0390 | Val Loss: 0.0750\n",
      "Epoch 60/100 | Train Loss: 0.0380 | Val Loss: 0.0752\n",
      "Epoch 61/100 | Train Loss: 0.0371 | Val Loss: 0.0738\n",
      "Epoch 62/100 | Train Loss: 0.0359 | Val Loss: 0.0732\n",
      "Epoch 63/100 | Train Loss: 0.0351 | Val Loss: 0.0726\n",
      "Epoch 64/100 | Train Loss: 0.0340 | Val Loss: 0.0724\n",
      "Epoch 65/100 | Train Loss: 0.0331 | Val Loss: 0.0721\n",
      "Epoch 66/100 | Train Loss: 0.0321 | Val Loss: 0.0718\n",
      "Epoch 67/100 | Train Loss: 0.0314 | Val Loss: 0.0726\n",
      "Epoch 68/100 | Train Loss: 0.0305 | Val Loss: 0.0715\n",
      "Epoch 69/100 | Train Loss: 0.0297 | Val Loss: 0.0717\n",
      "Epoch 70/100 | Train Loss: 0.0290 | Val Loss: 0.0710\n",
      "Epoch 71/100 | Train Loss: 0.0282 | Val Loss: 0.0719\n",
      "Epoch 72/100 | Train Loss: 0.0273 | Val Loss: 0.0703\n",
      "Epoch 73/100 | Train Loss: 0.0267 | Val Loss: 0.0723\n",
      "Epoch 74/100 | Train Loss: 0.0260 | Val Loss: 0.0708\n",
      "Epoch 75/100 | Train Loss: 0.0253 | Val Loss: 0.0693\n",
      "Epoch 76/100 | Train Loss: 0.0247 | Val Loss: 0.0701\n",
      "Epoch 77/100 | Train Loss: 0.0240 | Val Loss: 0.0698\n",
      "Epoch 78/100 | Train Loss: 0.0234 | Val Loss: 0.0691\n",
      "Epoch 79/100 | Train Loss: 0.0228 | Val Loss: 0.0705\n",
      "Epoch 80/100 | Train Loss: 0.0221 | Val Loss: 0.0730\n",
      "Epoch 81/100 | Train Loss: 0.0216 | Val Loss: 0.0692\n",
      "Epoch 82/100 | Train Loss: 0.0210 | Val Loss: 0.0678\n",
      "Epoch 83/100 | Train Loss: 0.0205 | Val Loss: 0.0691\n",
      "Epoch 84/100 | Train Loss: 0.0200 | Val Loss: 0.0688\n",
      "Epoch 85/100 | Train Loss: 0.0195 | Val Loss: 0.0687\n",
      "Epoch 86/100 | Train Loss: 0.0189 | Val Loss: 0.0698\n",
      "Epoch 87/100 | Train Loss: 0.0185 | Val Loss: 0.0691\n",
      "Epoch 88/100 | Train Loss: 0.0180 | Val Loss: 0.0695\n",
      "Epoch 89/100 | Train Loss: 0.0175 | Val Loss: 0.0673\n",
      "Epoch 90/100 | Train Loss: 0.0171 | Val Loss: 0.0700\n",
      "Epoch 91/100 | Train Loss: 0.0167 | Val Loss: 0.0682\n",
      "Epoch 92/100 | Train Loss: 0.0163 | Val Loss: 0.0679\n",
      "Epoch 93/100 | Train Loss: 0.0159 | Val Loss: 0.0680\n",
      "Epoch 94/100 | Train Loss: 0.0154 | Val Loss: 0.0695\n",
      "Epoch 95/100 | Train Loss: 0.0151 | Val Loss: 0.0680\n",
      "Epoch 96/100 | Train Loss: 0.0147 | Val Loss: 0.0677\n",
      "Epoch 97/100 | Train Loss: 0.0144 | Val Loss: 0.0681\n",
      "Epoch 98/100 | Train Loss: 0.0140 | Val Loss: 0.0675\n",
      "Epoch 99/100 | Train Loss: 0.0136 | Val Loss: 0.0686\n",
      "Epoch 100/100 | Train Loss: 0.0134 | Val Loss: 0.0687\n"
     ]
    }
   ],
   "source": [
    "epochs = 100\n",
    "train_losses = []\n",
    "val_losses   = []\n",
    "\n",
    "for epoch in range(1, epochs+1):\n",
    "    model.train()\n",
    "    total_train_loss = 0.0\n",
    "\n",
    "    for images, labels in train_loader:\n",
    "        images, labels = images.to(device), labels.to(device)\n",
    "        outputs = model(images)\n",
    "        loss    = loss_fn(outputs, labels)\n",
    "\n",
    "        optimizer.zero_grad()\n",
    "        loss.backward()\n",
    "        optimizer.step()\n",
    "\n",
    "        total_train_loss += loss.item() * images.size(0)\n",
    "\n",
    "    avg_train = total_train_loss / len(train_data)\n",
    "    train_losses.append(avg_train)\n",
    "\n",
    "    model.eval()\n",
    "    total_val_loss = 0.0\n",
    "    with torch.no_grad():\n",
    "        for images, labels in test_loader:\n",
    "            images, labels = images.to(device), labels.to(device)\n",
    "            outputs = model(images)\n",
    "            loss    = loss_fn(outputs, labels)\n",
    "            total_val_loss += loss.item() * images.size(0)\n",
    "\n",
    "    avg_val = total_val_loss / len(test_data)\n",
    "    val_losses.append(avg_val)\n",
    "\n",
    "    print(f\"Epoch {epoch}/{epochs} \"\n",
    "          f\"| Train Loss: {avg_train:.4f} \"\n",
    "          f\"| Val Loss: {avg_val:.4f}\")\n"
   ]
  },
  {
   "cell_type": "markdown",
   "id": "a8f444e6",
   "metadata": {},
   "source": [
    "# Plot losses\n"
   ]
  },
  {
   "cell_type": "code",
   "execution_count": 10,
   "id": "90ec5c0d",
   "metadata": {},
   "outputs": [
    {
     "data": {
      "image/png": "[encoded data removed]",
      "text/plain": [
       "<Figure size 640x480 with 1 Axes>"
      ]
     },
     "metadata": {},
     "output_type": "display_data"
    }
   ],
   "source": [
    "plt.figure()\n",
    "plt.plot(range(1, epochs+1), train_losses, label='Train Loss')\n",
    "plt.plot(range(1, epochs+1), val_losses,   label='Val Loss')\n",
    "plt.title('Training vs. Validation Loss')\n",
    "plt.xlabel('Epoch')\n",
    "plt.ylabel('Loss')\n",
    "plt.legend()\n",
    "plt.show()"
   ]
  },
  {
   "cell_type": "markdown",
   "id": "7604d783",
   "metadata": {},
   "source": [
    "# Evaluation & Metrics\n"
   ]
  },
  {
   "cell_type": "code",
   "execution_count": 11,
   "id": "9cc49736",
   "metadata": {},
   "outputs": [
    {
     "name": "stdout",
     "output_type": "stream",
     "text": [
      "Classification Report:\n",
      "\n",
      "              precision    recall  f1-score   support\n",
      "\n",
      "    0 - zero       0.98      0.99      0.98       980\n",
      "     1 - one       0.99      0.99      0.99      1135\n",
      "     2 - two       0.97      0.98      0.98      1032\n",
      "   3 - three       0.98      0.98      0.98      1010\n",
      "    4 - four       0.98      0.98      0.98       982\n",
      "    5 - five       0.98      0.98      0.98       892\n",
      "     6 - six       0.98      0.98      0.98       958\n",
      "   7 - seven       0.98      0.98      0.98      1028\n",
      "   8 - eight       0.97      0.97      0.97       974\n",
      "    9 - nine       0.98      0.97      0.97      1009\n",
      "\n",
      "    accuracy                           0.98     10000\n",
      "   macro avg       0.98      0.98      0.98     10000\n",
      "weighted avg       0.98      0.98      0.98     10000\n",
      "\n"
     ]
    }
   ],
   "source": [
    "model.eval()\n",
    "all_preds  = []\n",
    "all_labels = []\n",
    "\n",
    "with torch.no_grad():\n",
    "    for images, labels in test_loader:\n",
    "        images = images.to(device)\n",
    "        outputs = model(images)\n",
    "        _, preds = torch.max(outputs, dim=1)\n",
    "        all_preds.extend(preds.cpu().numpy())\n",
    "        all_labels.extend(labels.numpy())\n",
    "\n",
    "all_preds  = np.array(all_preds)\n",
    "all_labels = np.array(all_labels)\n",
    "\n",
    "# Classification report\n",
    "classes = train_data.classes\n",
    "print(\"Classification Report:\\n\")\n",
    "print(metrics.classification_report(\n",
    "    all_labels, all_preds, target_names=classes, zero_division=0\n",
    "))"
   ]
  },
  {
   "cell_type": "markdown",
   "id": "48653b17",
   "metadata": {},
   "source": [
    "# Confusion Matrix\n"
   ]
  },
  {
   "cell_type": "code",
   "execution_count": 12,
   "id": "0657cfa3",
   "metadata": {},
   "outputs": [
    {
     "data": {
      "image/png": "[encoded data removed]",
      "text/plain": [
       "<Figure size 800x600 with 2 Axes>"
      ]
     },
     "metadata": {},
     "output_type": "display_data"
    }
   ],
   "source": [
    "# Confusion matrix\n",
    "cm = metrics.confusion_matrix(all_labels, all_preds)\n",
    "df_cm = pd.DataFrame(cm, index=classes, columns=classes)\n",
    "\n",
    "plt.figure(figsize=(8,6))\n",
    "sn.heatmap(df_cm, annot=True, fmt='d', cmap='Blues')\n",
    "plt.title('Confusion Matrix')\n",
    "plt.xlabel('Predicted')\n",
    "plt.ylabel('Actual')\n",
    "plt.show()"
   ]
  },
  {
   "cell_type": "markdown",
   "id": "1642b5fd",
   "metadata": {},
   "source": [
    "# Classification Report\n"
   ]
  },
  {
   "cell_type": "code",
   "execution_count": 13,
   "id": "92766967",
   "metadata": {},
   "outputs": [
    {
     "name": "stdout",
     "output_type": "stream",
     "text": [
      "              precision    recall  f1-score   support\n",
      "\n",
      "    0 - zero       0.98      0.99      0.98       980\n",
      "     1 - one       0.99      0.99      0.99      1135\n",
      "     2 - two       0.97      0.98      0.98      1032\n",
      "   3 - three       0.98      0.98      0.98      1010\n",
      "    4 - four       0.98      0.98      0.98       982\n",
      "    5 - five       0.98      0.98      0.98       892\n",
      "     6 - six       0.98      0.98      0.98       958\n",
      "   7 - seven       0.98      0.98      0.98      1028\n",
      "   8 - eight       0.97      0.97      0.97       974\n",
      "    9 - nine       0.98      0.97      0.97      1009\n",
      "\n",
      "    accuracy                           0.98     10000\n",
      "   macro avg       0.98      0.98      0.98     10000\n",
      "weighted avg       0.98      0.98      0.98     10000\n",
      "\n"
     ]
    }
   ],
   "source": [
    "print(metrics.classification_report(all_labels, all_preds, target_names=classes, zero_division=0))"
   ]
  }
 ],
 "metadata": {
  "kernelspec": {
   "display_name": "Python 3 (ipykernel)",
   "language": "python",
   "name": "python3"
  },
  "language_info": {
   "codemirror_mode": {
    "name": "ipython",
    "version": 3
   },
   "file_extension": ".py",
   "mimetype": "text/x-python",
   "name": "python",
   "nbconvert_exporter": "python",
   "pygments_lexer": "ipython3",
   "version": "3.11.5"
  }
 },
 "nbformat": 4,
 "nbformat_minor": 5
}
